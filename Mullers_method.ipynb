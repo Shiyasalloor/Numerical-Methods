{
  "nbformat": 4,
  "nbformat_minor": 0,
  "metadata": {
    "colab": {
      "provenance": [],
      "authorship_tag": "ABX9TyOF8f2iP0nQTYTSLRZyvid9",
      "include_colab_link": true
    },
    "kernelspec": {
      "name": "python3",
      "display_name": "Python 3"
    },
    "language_info": {
      "name": "python"
    }
  },
  "cells": [
    {
      "cell_type": "markdown",
      "metadata": {
        "id": "view-in-github",
        "colab_type": "text"
      },
      "source": [
        "<a href=\"https://colab.research.google.com/github/Shiyasalloor/Numerical-Methods/blob/main/Mullers_method.ipynb\" target=\"_parent\"><img src=\"https://colab.research.google.com/assets/colab-badge.svg\" alt=\"Open In Colab\"/></a>"
      ]
    },
    {
      "cell_type": "code",
      "execution_count": null,
      "metadata": {
        "colab": {
          "base_uri": "https://localhost:8080/"
        },
        "id": "0AieOJwQrzOY",
        "outputId": "5c64375a-9b36-43e8-bb32-e7d525ac2ebd"
      },
      "outputs": [
        {
          "output_type": "stream",
          "name": "stdout",
          "text": [
            "Enter the value of x0: 1\n",
            "Enter the value of x1: 2\n",
            "Enter the value of x2: 3\n",
            "Enter the value of epsilon: 0.0001\n",
            "Enter the maximum number of iterations: 10\n",
            "Root: 2.70652795\n"
          ]
        }
      ],
      "source": [
        "from math import sqrt\n",
        "\n",
        "def muller_method(f, x0, x1, x2, tol=1e-6, max_iter=100):\n",
        "    h1 = x1 - x0\n",
        "    h2 = x2 - x1\n",
        "    delta1 = (f(x1) - f(x0)) / h1\n",
        "    delta2 = (f(x2) - f(x1)) / h2\n",
        "    d = (delta2 - delta1) / (h2 + h1)\n",
        "\n",
        "    i = 3\n",
        "    while i <= max_iter:\n",
        "        b = delta2 + h2 * d\n",
        "        D = sqrt(b**2 - 4 * f(x2) * d)\n",
        "\n",
        "        if abs(b - D) < abs(b + D):\n",
        "            E = b + D\n",
        "        else:\n",
        "            E = b - D\n",
        "\n",
        "        h = -2 * f(x2) / E\n",
        "        p = x2 + h\n",
        "\n",
        "        if abs(h) < tol:\n",
        "            return p\n",
        "\n",
        "        x0 = x1\n",
        "        x1 = x2\n",
        "        x2 = p\n",
        "\n",
        "        h1 = x1 - x0\n",
        "        h2 = x2 - x1\n",
        "        delta1 = (f(x1) - f(x0)) / h1\n",
        "        delta2 = (f(x2) - f(x1)) / h2\n",
        "        d = (delta2 - delta1) / (h2 + h1)\n",
        "\n",
        "        i += 1\n",
        "\n",
        "    return p\n",
        "\n",
        "def main():\n",
        "    def equation(x):\n",
        "        return x**3 - 4*x - 9\n",
        "\n",
        "    x0 = float(input(\"Enter the value of x0: \"))\n",
        "    x1 = float(input(\"Enter the value of x1: \"))\n",
        "    x2 = float(input(\"Enter the value of x2: \"))\n",
        "    epsilon = float(input(\"Enter the value of epsilon: \"))\n",
        "    max_iter = int(input(\"Enter the maximum number of iterations: \"))\n",
        "\n",
        "    root = muller_method(equation, x0, x1, x2, epsilon, max_iter)\n",
        "\n",
        "    if root is None:\n",
        "        print(\"Unable to find the roots in the given interval.\")\n",
        "    else:\n",
        "        print(f\"Root: {root:.8f}\")\n",
        "\n",
        "if __name__ == \"__main__\":\n",
        "    main()\n"
      ]
    }
  ]
}