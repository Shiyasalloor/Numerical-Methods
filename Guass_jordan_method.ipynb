{
  "nbformat": 4,
  "nbformat_minor": 0,
  "metadata": {
    "colab": {
      "provenance": [],
      "authorship_tag": "ABX9TyPMrvmINVii6+gyLRQow2eE",
      "include_colab_link": true
    },
    "kernelspec": {
      "name": "python3",
      "display_name": "Python 3"
    },
    "language_info": {
      "name": "python"
    }
  },
  "cells": [
    {
      "cell_type": "markdown",
      "metadata": {
        "id": "view-in-github",
        "colab_type": "text"
      },
      "source": [
        "<a href=\"https://colab.research.google.com/github/Shiyasalloor/Numerical-Methods/blob/main/Guass_jordan_method.ipynb\" target=\"_parent\"><img src=\"https://colab.research.google.com/assets/colab-badge.svg\" alt=\"Open In Colab\"/></a>"
      ]
    },
    {
      "cell_type": "code",
      "execution_count": null,
      "metadata": {
        "id": "1UPj-0112BDL",
        "colab": {
          "base_uri": "https://localhost:8080/"
        },
        "outputId": "ef6ceb75-ea7f-4632-d571-6c36942290c9"
      },
      "outputs": [
        {
          "output_type": "stream",
          "name": "stdout",
          "text": [
            "Enter number of unknowns: 3\n",
            "Enter Augmented Matrix Coefficients:\n",
            "a[0][0]=2\n",
            "a[0][1]=2\n",
            "a[0][2]=1\n",
            "a[0][3]=6\n",
            "a[1][0]=4\n",
            "a[1][1]=2\n",
            "a[1][2]=3\n",
            "a[1][3]=4\n",
            "a[2][0]=1\n",
            "a[2][1]=1\n",
            "a[2][2]=1\n",
            "a[2][3]=0\n",
            "\n",
            "Required solution is: \n",
            "X0 = 5.00\n",
            "X1 = 1.00\n",
            "X2 = -6.00\n"
          ]
        }
      ],
      "source": [
        "import numpy as np\n",
        "import sys\n",
        "\n",
        "n = int(input('Enter number of unknowns: '))\n",
        "\n",
        "a = np.zeros((n, n + 1))\n",
        "\n",
        "x = np.zeros(n)\n",
        "\n",
        "print('Enter Augmented Matrix Coefficients:')\n",
        "for i in range(n):\n",
        "    for j in range(n + 1):\n",
        "        a[i][j] = float(input('a[' + str(i) + '][' + str(j) + ']='))\n",
        "        9\n",
        "for i in range(n):\n",
        "    if a[i][i] == 0.0:\n",
        "        sys.exit('Divide by zero detected!')\n",
        "\n",
        "    for j in range(n):\n",
        "        if i != j:\n",
        "            ratio = a[j][i] / a[i][i]\n",
        "            for k in range(n + 1):\n",
        "                a[j][k] = a[j][k] - ratio * a[i][k]\n",
        "\n",
        "\n",
        "for i in range(n):\n",
        "    divisor = a[i][i]\n",
        "    for j in range(n + 1):\n",
        "        a[i][j] = a[i][j] / divisor\n",
        "\n",
        "print('\\nRequired solution is: ')\n",
        "for i in range(n):\n",
        "    print('X%d = %0.2f' % (i, a[i][n]))\n"
      ]
    }
  ]
}