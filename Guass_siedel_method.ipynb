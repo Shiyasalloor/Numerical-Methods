{
  "nbformat": 4,
  "nbformat_minor": 0,
  "metadata": {
    "colab": {
      "provenance": [],
      "gpuType": "T4",
      "authorship_tag": "ABX9TyN9WTW2clYUQuJNBBBA1Xzl",
      "include_colab_link": true
    },
    "kernelspec": {
      "name": "python3",
      "display_name": "Python 3"
    },
    "language_info": {
      "name": "python"
    },
    "accelerator": "GPU"
  },
  "cells": [
    {
      "cell_type": "markdown",
      "metadata": {
        "id": "view-in-github",
        "colab_type": "text"
      },
      "source": [
        "<a href=\"https://colab.research.google.com/github/Shiyasalloor/Numerical-Methods/blob/main/Guass_siedel_method.ipynb\" target=\"_parent\"><img src=\"https://colab.research.google.com/assets/colab-badge.svg\" alt=\"Open In Colab\"/></a>"
      ]
    },
    {
      "cell_type": "code",
      "source": [
        "def seidel(a, x, b):\n",
        "    n = len(a)\n",
        "    for j in range(0, n):\n",
        "        d = b[j]\n",
        "        for i in range(0, n):\n",
        "            if j != i:\n",
        "                d -= a[j][i] * x[i]\n",
        "        x[j] = d / a[j][j]\n",
        "    return x\n",
        "\n",
        "n = 3\n",
        "a = [[3, -0.1, -0.2], [0.1, 7, -0.3], [0.3, -0.2, 10]]\n",
        "b = [7.85, -19.3, 71.4]\n",
        "x = [0, 0, 0]\n",
        "\n",
        "for _ in range(25):\n",
        "    x = seidel(a, x, b)\n",
        "    print(x)\n"
      ],
      "metadata": {
        "colab": {
          "base_uri": "https://localhost:8080/"
        },
        "id": "oQedATfsdGIn",
        "outputId": "e0018302-a6be-46de-b5a9-ec7707ec0d94"
      },
      "execution_count": 14,
      "outputs": [
        {
          "output_type": "stream",
          "name": "stdout",
          "text": [
            "[2.6166666666666667, -2.7945238095238096, 7.005609523809525]\n",
            "[2.990556507936508, -2.499624684807256, 7.00029081106576]\n",
            "[3.0000318979108087, -2.499987992353051, 6.999999283215615]\n",
            "[3.000000352469273, -2.5000000357546064, 6.99999998871083]\n",
            "[2.9999999980555683, -2.500000000456044, 7.000000000049214]\n",
            "[2.9999999999880793, -2.4999999999977205, 7.000000000000403]\n",
            "[3.000000000000103, -2.4999999999999845, 6.999999999999997]\n",
            "[3.0, -2.5000000000000004, 7.0]\n",
            "[3.0, -2.5, 7.0]\n",
            "[3.0, -2.5, 7.0]\n",
            "[3.0, -2.5, 7.0]\n",
            "[3.0, -2.5, 7.0]\n",
            "[3.0, -2.5, 7.0]\n",
            "[3.0, -2.5, 7.0]\n",
            "[3.0, -2.5, 7.0]\n",
            "[3.0, -2.5, 7.0]\n",
            "[3.0, -2.5, 7.0]\n",
            "[3.0, -2.5, 7.0]\n",
            "[3.0, -2.5, 7.0]\n",
            "[3.0, -2.5, 7.0]\n",
            "[3.0, -2.5, 7.0]\n",
            "[3.0, -2.5, 7.0]\n",
            "[3.0, -2.5, 7.0]\n",
            "[3.0, -2.5, 7.0]\n",
            "[3.0, -2.5, 7.0]\n"
          ]
        }
      ]
    }
  ]
}