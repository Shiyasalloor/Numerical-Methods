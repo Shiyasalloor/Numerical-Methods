{
  "nbformat": 4,
  "nbformat_minor": 0,
  "metadata": {
    "colab": {
      "provenance": [],
      "authorship_tag": "ABX9TyP1cSR1y1RAN1oth/YhdheO",
      "include_colab_link": true
    },
    "kernelspec": {
      "name": "python3",
      "display_name": "Python 3"
    },
    "language_info": {
      "name": "python"
    }
  },
  "cells": [
    {
      "cell_type": "markdown",
      "metadata": {
        "id": "view-in-github",
        "colab_type": "text"
      },
      "source": [
        "<a href=\"https://colab.research.google.com/github/Shiyasalloor/Numerical-Methods/blob/main/Simpson's_1_3_rule.ipynb\" target=\"_parent\"><img src=\"https://colab.research.google.com/assets/colab-badge.svg\" alt=\"Open In Colab\"/></a>"
      ]
    },
    {
      "cell_type": "code",
      "execution_count": 2,
      "metadata": {
        "colab": {
          "base_uri": "https://localhost:8080/"
        },
        "id": "R9F_bMt__F-c",
        "outputId": "2dd85b1e-87c7-427a-a247-2c56cd2bc437"
      },
      "outputs": [
        {
          "output_type": "stream",
          "name": "stdout",
          "text": [
            "Enter the lower limit: 1\n",
            "Enter the upper limit: 2.5\n",
            "Enter the number of intervals: 4\n",
            "Result: 0.790553\n"
          ]
        }
      ],
      "source": [
        "import math\n",
        "\n",
        "def func(x):\n",
        "    return math.log(x)\n",
        "\n",
        "def simpsons_(ll, ul, n):\n",
        "    h = (ul - ll) / n\n",
        "    x = []\n",
        "    fx = []\n",
        "\n",
        "    i = 0\n",
        "    while i <= n:\n",
        "        x.append(ll + i * h)\n",
        "        fx.append(func(x[i]))\n",
        "        i += 1\n",
        "\n",
        "    res = 0\n",
        "    i = 0\n",
        "    while i <= n:\n",
        "        if i == 0 or i == n:\n",
        "            res += fx[i]\n",
        "        elif i % 2 != 0:\n",
        "            res += 4 * fx[i]\n",
        "        else:\n",
        "            res += 2 * fx[i]\n",
        "        i += 1\n",
        "    res = res * (h / 3)\n",
        "    return res\n",
        "\n",
        "lower_limit = float(input(\"Enter the lower limit: \"))\n",
        "upper_limit = float(input(\"Enter the upper limit: \"))\n",
        "n = int(input(\"Enter the number of intervals: \"))\n",
        "print(\"Result:\", \"%.6f\" % simpsons_(lower_limit, upper_limit, n))\n"
      ]
    }
  ]
}