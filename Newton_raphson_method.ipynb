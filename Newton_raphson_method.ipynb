{
  "nbformat": 4,
  "nbformat_minor": 0,
  "metadata": {
    "colab": {
      "provenance": [],
      "authorship_tag": "ABX9TyO3eKNccs5xNa87TqbTyNla",
      "include_colab_link": true
    },
    "kernelspec": {
      "name": "python3",
      "display_name": "Python 3"
    },
    "language_info": {
      "name": "python"
    }
  },
  "cells": [
    {
      "cell_type": "markdown",
      "metadata": {
        "id": "view-in-github",
        "colab_type": "text"
      },
      "source": [
        "<a href=\"https://colab.research.google.com/github/Shiyasalloor/Numerical-Methods/blob/main/Newton_raphson_method.ipynb\" target=\"_parent\"><img src=\"https://colab.research.google.com/assets/colab-badge.svg\" alt=\"Open In Colab\"/></a>"
      ]
    },
    {
      "cell_type": "code",
      "execution_count": null,
      "metadata": {
        "colab": {
          "base_uri": "https://localhost:8080/"
        },
        "id": "AntrizQxe1xW",
        "outputId": "6c56a41a-0e44-4a4b-c4d2-ed9c3328a0f3"
      },
      "outputs": [
        {
          "output_type": "stream",
          "name": "stdout",
          "text": [
            "First Guess: 1\n",
            "Second Guess: 6\n",
            "Guess a number between first guess and second guess: 2.5\n",
            "Tolerable Error: 0.000005\n",
            "no of iteration =  4\n",
            "\n",
            "Required Root is: 2.70652798\n"
          ]
        }
      ],
      "source": [
        "def f(x):\n",
        "    return x**3 - 4*x - 9\n",
        "\n",
        "def derF(x):\n",
        "    return 3*(x**2) - 4\n",
        "\n",
        "def newtonRaphsonMethod(x0, x1, xa, e):\n",
        "    step = 1\n",
        "    condition = True\n",
        "    while condition:\n",
        "        xb = xa\n",
        "        try:\n",
        "            xa = xa - f(xa) / derF(xa)\n",
        "        except ZeroDivisionError:\n",
        "            print(\"Error: Derivative is zero. Newton-Raphson method cannot converge.\")\n",
        "            break\n",
        "\n",
        "        step += 1\n",
        "        condition = abs(f(xa)) > e\n",
        "\n",
        "        if abs(xa - xb) < e:\n",
        "            break\n",
        "    print('no of iteration = ',step)\n",
        "    print('\\nRequired Root is: %0.8f' % xa)\n",
        "\n",
        "x0 = float(input('First Guess: '))\n",
        "x1 = float(input('Second Guess: '))\n",
        "xa = float(input('Guess a number between first guess and second guess: '))\n",
        "e = float(input('Tolerable Error: '))\n",
        "\n",
        "if xa < x0 or xa > x1:\n",
        "    print(\"Guessed value is not within the range of the initial guesses.\")\n",
        "else:\n",
        "    if f(x0) * f(x1) > 0.0:\n",
        "        print('Given guess values do not bracket the root.')\n",
        "        print('Try Again with different guess values.')\n",
        "    else:\n",
        "        newtonRaphsonMethod(x0, x1, xa, e)\n"
      ]
    }
  ]
}