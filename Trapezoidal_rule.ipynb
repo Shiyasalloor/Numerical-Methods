{
  "nbformat": 4,
  "nbformat_minor": 0,
  "metadata": {
    "colab": {
      "provenance": [],
      "authorship_tag": "ABX9TyPz4Nk5erNvrwKMkzAnpZGZ",
      "include_colab_link": true
    },
    "kernelspec": {
      "name": "python3",
      "display_name": "Python 3"
    },
    "language_info": {
      "name": "python"
    }
  },
  "cells": [
    {
      "cell_type": "markdown",
      "metadata": {
        "id": "view-in-github",
        "colab_type": "text"
      },
      "source": [
        "<a href=\"https://colab.research.google.com/github/Shiyasalloor/Numerical-Methods/blob/main/Trapezoidal_rule.ipynb\" target=\"_parent\"><img src=\"https://colab.research.google.com/assets/colab-badge.svg\" alt=\"Open In Colab\"/></a>"
      ]
    },
    {
      "cell_type": "code",
      "execution_count": 1,
      "metadata": {
        "colab": {
          "base_uri": "https://localhost:8080/"
        },
        "id": "e0dHeRObqmvT",
        "outputId": "17e04a1b-88aa-43e3-c71b-881239cecc62"
      },
      "outputs": [
        {
          "output_type": "stream",
          "name": "stdout",
          "text": [
            "Enter the lower limit of integration: 0\n",
            "Enter the upper limit of integration: 1\n",
            "Enter the number of subintervals: 1000\n",
            "Approximation of the integral: 0.33333349999999995\n"
          ]
        }
      ],
      "source": [
        "def f(x):\n",
        "    return x**2\n",
        "\n",
        "def trapezoidal_rule(a, b, n):\n",
        "    h = (b - a) / n\n",
        "    result = 0.5 * (f(a) + f(b))\n",
        "    for i in range(1, n):\n",
        "        result += f(a + i * h)\n",
        "    return result * h\n",
        "\n",
        "a = float(input(\"Enter the lower limit of integration: \"))\n",
        "b = float(input(\"Enter the upper limit of integration: \"))\n",
        "n = int(input(\"Enter the number of subintervals: \"))\n",
        "\n",
        "integral_approximation = trapezoidal_rule(a, b, n)\n",
        "print(\"Approximation of the integral:\", integral_approximation)\n"
      ]
    }
  ]
}