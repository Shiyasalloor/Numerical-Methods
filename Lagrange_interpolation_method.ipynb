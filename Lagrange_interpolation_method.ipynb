{
  "nbformat": 4,
  "nbformat_minor": 0,
  "metadata": {
    "colab": {
      "provenance": [],
      "authorship_tag": "ABX9TyOJw8j4Cnc1bc+vlGwnk60G",
      "include_colab_link": true
    },
    "kernelspec": {
      "name": "python3",
      "display_name": "Python 3"
    },
    "language_info": {
      "name": "python"
    }
  },
  "cells": [
    {
      "cell_type": "markdown",
      "metadata": {
        "id": "view-in-github",
        "colab_type": "text"
      },
      "source": [
        "<a href=\"https://colab.research.google.com/github/Shiyasalloor/Numerical-Methods/blob/main/Lagrange_interpolation_method.ipynb\" target=\"_parent\"><img src=\"https://colab.research.google.com/assets/colab-badge.svg\" alt=\"Open In Colab\"/></a>"
      ]
    },
    {
      "cell_type": "code",
      "execution_count": null,
      "metadata": {
        "id": "d-togpXa55V2"
      },
      "outputs": [],
      "source": [
        "class DataPoint:\n",
        "    def __init__(self, x_value, y_value):\n",
        "        self.x = x_value\n",
        "        self.y = y_value\n",
        "\n",
        "def interpolate(data_points: list, x_interpolate: int, num_points: int) -> float:\n",
        "    interpolated_value = 0.0\n",
        "\n",
        "    for i in range(num_points):\n",
        "        term = data_points[i].y\n",
        "        for j in range(num_points):\n",
        "            if j != i:\n",
        "\n",
        "                term *= (x_interpolate - data_points[j].x) / (data_points[i].x - data_points[j].x)\n",
        "        interpolated_value += term\n",
        "\n",
        "    return interpolated_value\n",
        "\n",
        "if __name__ == \"__main__\":\n",
        "    data_points = [DataPoint(300, 2.4771), DataPoint(301, 2.4829), DataPoint(305, 2.4843), DataPoint(307, 2.4871)]\n",
        "\n",
        "    input_number = float(input(\"Enter the number to interpolate: \"))\n",
        "\n",
        "\n",
        "    if input_number < data_points[0].x or input_number > data_points[-1].x:\n",
        "        print(\"Entered value is not in the range of available data points\")\n",
        "    else:\n",
        "\n",
        "        interpolated_value = interpolate(data_points, input_number, len(data_points))\n",
        "        print(f\"Interpolated value at {input_number} is: {interpolated_value}\")\n"
      ]
    }
  ]
}