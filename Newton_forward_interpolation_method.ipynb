{
  "nbformat": 4,
  "nbformat_minor": 0,
  "metadata": {
    "colab": {
      "provenance": [],
      "authorship_tag": "ABX9TyP4sY1Mo6zsQ+P1YNRhDEjr",
      "include_colab_link": true
    },
    "kernelspec": {
      "name": "python3",
      "display_name": "Python 3"
    },
    "language_info": {
      "name": "python"
    }
  },
  "cells": [
    {
      "cell_type": "markdown",
      "metadata": {
        "id": "view-in-github",
        "colab_type": "text"
      },
      "source": [
        "<a href=\"https://colab.research.google.com/github/Shiyasalloor/Numerical-Methods/blob/main/Newton_forward_interpolation_method.ipynb\" target=\"_parent\"><img src=\"https://colab.research.google.com/assets/colab-badge.svg\" alt=\"Open In Colab\"/></a>"
      ]
    },
    {
      "cell_type": "code",
      "execution_count": 8,
      "metadata": {
        "colab": {
          "base_uri": "https://localhost:8080/"
        },
        "id": "EHM-FlrjNP1Z",
        "outputId": "931d52cf-6d77-4fa4-e84f-fe4c16e5f7bb"
      },
      "outputs": [
        {
          "output_type": "stream",
          "name": "stdout",
          "text": [
            "0.1\t0.1003\t0.05080000000000001\t0.0007999999999999674\t0.000200000000000089\t0.00019999999999981144\t\n",
            "0.15\t0.1511\t0.05159999999999998\t0.0010000000000000564\t0.00039999999999990044\t\n",
            "0.2\t0.2027\t0.052600000000000036\t0.0013999999999999568\t\n",
            "0.25\t0.2553\t0.05399999999999999\t\n",
            "0.3\t0.3093\t\n",
            "\n",
            "Value at 0.17 is 0.171637\n"
          ]
        }
      ],
      "source": [
        "def calculate_u_term(u, n):\n",
        "    temp = u\n",
        "    for i in range(1, n):\n",
        "        temp = temp * (u - i)\n",
        "    return temp\n",
        "\n",
        "def factorial(n):\n",
        "    f = 1\n",
        "    for i in range(2, n + 1):\n",
        "        f *= i\n",
        "    return f\n",
        "\n",
        "n = 5\n",
        "x_values = [.10, .15, .20, .25, .30]\n",
        "\n",
        "y_values = [[0 for i in range(n)]\n",
        "            for j in range(n)]\n",
        "y_values[0][0] = 0.1003\n",
        "y_values[1][0] = 0.1511\n",
        "y_values[2][0] = 0.2027\n",
        "y_values[3][0] = 0.2553\n",
        "y_values[4][0] = 0.3093\n",
        "for i in range(1, n):\n",
        "    for j in range(n - i):\n",
        "        y_values[j][i] = y_values[j + 1][i - 1] - y_values[j][i - 1]\n",
        "\n",
        "for i in range(n):\n",
        "    print(x_values[i], end=\"\\t\")\n",
        "    for j in range(n - i):\n",
        "        print(y_values[i][j], end=\"\\t\")\n",
        "    print(\"\")\n",
        "\n",
        "value_to_interpolate = .17\n",
        "\n",
        "sum_result = y_values[0][0]\n",
        "u_value = (value_to_interpolate - x_values[0]) / (x_values[1] - x_values[0])\n",
        "\n",
        "for i in range(1, n):\n",
        "    sum_result = sum_result + (calculate_u_term(u_value, i) * y_values[0][i]) / factorial(i)\n",
        "\n",
        "print(\"\\nValue at\", value_to_interpolate,\n",
        "      \"is\", round(sum_result, 6))\n"
      ]
    }
  ]
}