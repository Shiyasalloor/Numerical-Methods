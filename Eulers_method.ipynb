{
  "nbformat": 4,
  "nbformat_minor": 0,
  "metadata": {
    "colab": {
      "provenance": [],
      "authorship_tag": "ABX9TyPide6qp3J6uyI+F7KT/+Jd",
      "include_colab_link": true
    },
    "kernelspec": {
      "name": "python3",
      "display_name": "Python 3"
    },
    "language_info": {
      "name": "python"
    }
  },
  "cells": [
    {
      "cell_type": "markdown",
      "metadata": {
        "id": "view-in-github",
        "colab_type": "text"
      },
      "source": [
        "<a href=\"https://colab.research.google.com/github/Shiyasalloor/Numerical-Methods/blob/main/Eulers_method.ipynb\" target=\"_parent\"><img src=\"https://colab.research.google.com/assets/colab-badge.svg\" alt=\"Open In Colab\"/></a>"
      ]
    },
    {
      "cell_type": "code",
      "execution_count": 1,
      "metadata": {
        "colab": {
          "base_uri": "https://localhost:8080/"
        },
        "id": "35NqEvY1sGwS",
        "outputId": "73475a67-92ac-4fc7-f482-918cb99deb8d"
      },
      "outputs": [
        {
          "output_type": "stream",
          "name": "stdout",
          "text": [
            "Enter the initial value of x: 0\n",
            "Enter the initial value of y: 1\n",
            "Enter the step size (h): 0.1\n",
            "Enter the number of steps: 10\n",
            "Approximate solutions using Euler method:\n",
            "Step 0: x = 0.0, y = 1.0\n",
            "Step 1: x = 0.1, y = 1.1\n",
            "Step 2: x = 0.2, y = 1.2200000000000002\n",
            "Step 3: x = 0.30000000000000004, y = 1.362\n",
            "Step 4: x = 0.4, y = 1.5282\n",
            "Step 5: x = 0.5, y = 1.72102\n",
            "Step 6: x = 0.6, y = 1.943122\n",
            "Step 7: x = 0.7, y = 2.1974342\n",
            "Step 8: x = 0.7999999999999999, y = 2.48717762\n",
            "Step 9: x = 0.8999999999999999, y = 2.8158953820000003\n",
            "Step 10: x = 0.9999999999999999, y = 3.1874849202\n"
          ]
        }
      ],
      "source": [
        "def euler_method(f, x0, y0, h, n):\n",
        "    results = [(x0, y0)]\n",
        "    for _ in range(1, n+1):\n",
        "        x_prev, y_prev = results[-1]\n",
        "        x_next = x_prev + h\n",
        "        y_next = y_prev + h * f(x_prev, y_prev)\n",
        "        results.append((x_next, y_next))\n",
        "    return results\n",
        "\n",
        "def f(x, y):\n",
        "    return x + y\n",
        "\n",
        "x0 = float(input(\"Enter the initial value of x: \"))\n",
        "y0 = float(input(\"Enter the initial value of y: \"))\n",
        "\n",
        "h = float(input(\"Enter the step size (h): \"))\n",
        "n = int(input(\"Enter the number of steps: \"))\n",
        "\n",
        "results = euler_method(f, x0, y0, h, n)\n",
        "\n",
        "print(\"Approximate solutions using Euler method:\")\n",
        "for i, (x, y) in enumerate(results):\n",
        "    print(f\"Step {i}: x = {x}, y = {y}\")\n"
      ]
    }
  ]
}