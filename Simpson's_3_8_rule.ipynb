{
  "nbformat": 4,
  "nbformat_minor": 0,
  "metadata": {
    "colab": {
      "provenance": [],
      "authorship_tag": "ABX9TyMG/QvqEJRDaA9rt9uZyr6R",
      "include_colab_link": true
    },
    "kernelspec": {
      "name": "python3",
      "display_name": "Python 3"
    },
    "language_info": {
      "name": "python"
    }
  },
  "cells": [
    {
      "cell_type": "markdown",
      "metadata": {
        "id": "view-in-github",
        "colab_type": "text"
      },
      "source": [
        "<a href=\"https://colab.research.google.com/github/Shiyasalloor/Numerical-Methods/blob/main/Simpson's_3_8_rule.ipynb\" target=\"_parent\"><img src=\"https://colab.research.google.com/assets/colab-badge.svg\" alt=\"Open In Colab\"/></a>"
      ]
    },
    {
      "cell_type": "code",
      "execution_count": 1,
      "metadata": {
        "colab": {
          "base_uri": "https://localhost:8080/"
        },
        "id": "_vy3kne7AfBP",
        "outputId": "a1ed4d0b-9145-4ab9-ff43-a23fc9e70d17"
      },
      "outputs": [
        {
          "output_type": "stream",
          "name": "stdout",
          "text": [
            "Enter the lower limit: 1\n",
            "Enter the upper limit: 2.5\n",
            "Enter the number of intervals (must be a multiple of 3): 4\n",
            "Result: 0.711287\n"
          ]
        }
      ],
      "source": [
        "import math\n",
        "\n",
        "def func(x):\n",
        "    return math.log(x)\n",
        "\n",
        "def simpsons_3_8(ll, ul, n):\n",
        "    h = (ul - ll) / n\n",
        "    x = []\n",
        "    fx = []\n",
        "\n",
        "    i = 0\n",
        "    while i <= n:\n",
        "        x.append(ll + i * h)\n",
        "        fx.append(func(x[i]))\n",
        "        i += 1\n",
        "\n",
        "    res = 0\n",
        "    i = 0\n",
        "    while i <= n:\n",
        "        if i == 0 or i == n:\n",
        "            res += fx[i]\n",
        "        elif i % 3 == 0:\n",
        "            res += 2 * fx[i]\n",
        "        else:\n",
        "            res += 3 * fx[i]\n",
        "        i += 1\n",
        "    res = res * (3 * h / 8)\n",
        "    return res\n",
        "\n",
        "lower_limit = float(input(\"Enter the lower limit: \"))\n",
        "upper_limit = float(input(\"Enter the upper limit: \"))\n",
        "n = int(input(\"Enter the number of intervals (must be a multiple of 3): \"))\n",
        "print(\"Result:\", \"%.6f\" % simpsons_3_8(lower_limit, upper_limit, n))\n"
      ]
    }
  ]
}